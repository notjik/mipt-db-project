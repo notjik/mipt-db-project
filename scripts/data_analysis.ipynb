{
 "cells": [
  {
   "metadata": {},
   "cell_type": "markdown",
   "source": "### 1. ИМПОРТ НЕОБХОДИМЫХ БИБЛИОТЕК",
   "id": "684108765f69d4ad"
  },
  {
   "metadata": {
    "collapsed": true,
    "ExecuteTime": {
     "end_time": "2025-05-26T21:12:48.036747Z",
     "start_time": "2025-05-26T21:12:47.945110Z"
    }
   },
   "cell_type": "code",
   "source": [
    "import random\n",
    "from datetime import datetime, timedelta\n",
    "\n",
    "import psycopg2\n",
    "import pandas as pd\n",
    "import matplotlib.pyplot as plt\n",
    "import seaborn as sns\n",
    "from sqlalchemy import create_engine"
   ],
   "id": "initial_id",
   "outputs": [],
   "execution_count": 1
  },
  {
   "metadata": {},
   "cell_type": "markdown",
   "source": [
    "---\n",
    "#### 2. ПОДКЛЮЧЕНИЕ К БД"
   ],
   "id": "2d5ccc8fae585c32"
  },
  {
   "metadata": {
    "ExecuteTime": {
     "end_time": "2025-05-26T21:12:48.121919Z",
     "start_time": "2025-05-26T21:12:48.041024Z"
    }
   },
   "cell_type": "code",
   "source": [
    "# --- 1. ПАРАМЕТРЫ ПОДКЛЮЧЕНИЯ ---\n",
    "DB_USER = \"postgres\"\n",
    "DB_PASS = \"postgres\"\n",
    "DB_HOST = \"localhost\"\n",
    "DB_PORT = \"5432\"\n",
    "DB_NAME = \"mipt\"\n",
    "\n",
    "# Коннект через psycopg2 для вставки\n",
    "dsn = f\"dbname={DB_NAME} user={DB_USER} password={DB_PASS} host={DB_HOST} port={DB_PORT}\"\n",
    "conn = psycopg2.connect(dsn)\n",
    "cur = conn.cursor()\n",
    "\n",
    "# SQLAlchemy engine для pandas\n",
    "engine_url = f\"postgresql://{DB_USER}:{DB_PASS}@{DB_HOST}:{DB_PORT}/{DB_NAME}\"\n",
    "engine = create_engine(engine_url)"
   ],
   "id": "5e2f5bb4ada1d50d",
   "outputs": [],
   "execution_count": 2
  },
  {
   "metadata": {},
   "cell_type": "markdown",
   "source": [
    "---\n",
    "#### 3. ГЕНЕРАЦИЯ И ВСТАВКА ДАННЫХ"
   ],
   "id": "e7855064c7b1ee2"
  },
  {
   "metadata": {
    "ExecuteTime": {
     "end_time": "2025-05-26T21:12:48.601281Z",
     "start_time": "2025-05-26T21:12:48.268826Z"
    }
   },
   "cell_type": "code",
   "source": [
    "now = datetime.utcnow()\n",
    "\n",
    "# Генерация уникальных имен и почт с разным стилем\n",
    "first_names = [\"alex\", \"kate\", \"sasha\", \"ivan\", \"lena\", \"vlad\", \"dima\", \"olga\", \"misha\", \"anna\", \"elena\", \"sergey\", \"egor\", \"julia\", \"max\", \"pasha\", \"pavel\"]\n",
    "last_names = [\"smirnov\", \"ivanov\", \"petrov\", \"sidorov\", \"volkov\", \"kozlov\", \"novikov\", \"morozov\", \"lebedev\", \"solovyov\", \"rodin\"]\n",
    "domains = [\"mail.ru\", \"gmail.com\", \"yandex.ru\", \"example.com\", \"test.org\"]\n",
    "\n",
    "users = []\n",
    "used_usernames = set()\n",
    "for _ in range(15):\n",
    "    # Базовые вариации имени\n",
    "    fn = random.choice(first_names)\n",
    "    ln = random.choice(last_names)\n",
    "    username = f\"{fn}{ln}\"\n",
    "    while username in used_usernames:\n",
    "        num = random.randint(1, 9999)\n",
    "        username = f\"{fn}{ln}{num}\"\n",
    "    used_usernames.add(username)\n",
    "    domain = random.choice(domains)\n",
    "    # E-mail с шансом быть не как username\n",
    "    if random.random() < 0.7:\n",
    "        email = f\"{fn}.{ln}@{domain}\"\n",
    "    else:\n",
    "        email = f\"{username}@{domain}\"\n",
    "    # \"Хеш\" пароля\n",
    "    password_hash = pd.util.hash_pandas_object(pd.Series([random.random()]), index=False).iloc[0]\n",
    "    # Дата регистрации: разбросана по разным месяцам и сезонам\n",
    "    created_at = now - timedelta(days=random.uniform(0, 365), seconds=random.randint(0, 86400*10))\n",
    "    users.append((username, email, str(password_hash), created_at))\n",
    "cur.executemany(\n",
    "    \"INSERT INTO mipt_project.users(username,email,password_hash,created_at) VALUES(%s,%s,%s,%s) ON CONFLICT DO NOTHING\",\n",
    "    users\n",
    ")\n",
    "conn.commit()\n",
    "\n",
    "# Артисты — часть \"пользовательские\", часть \"группы\"\n",
    "artist_types = [\"Band\", \"Solo\", \"DJ\", \"Composer\"]\n",
    "cur.execute(\"SELECT id FROM mipt_project.users\")\n",
    "user_ids = [r[0] for r in cur.fetchall()]\n",
    "artists = []\n",
    "used_artist_names = set()\n",
    "for _ in range(15):\n",
    "    t = random.choice(artist_types)\n",
    "    if t == \"Band\":\n",
    "        name = f\"The {random.choice(last_names).capitalize()}s\"\n",
    "    elif t == \"DJ\":\n",
    "        name = f\"DJ {random.choice(first_names).capitalize()}{random.randint(1, 999) if random.random() > 0.8 else ''}\"\n",
    "    elif t == \"Composer\":\n",
    "        name = f\"{random.choice(first_names).capitalize()} {random.choice(last_names).capitalize()}\"\n",
    "    else:\n",
    "        name = f\"{random.choice(first_names).capitalize()}_{random.randint(1,999) if random.random() > 0.8 else ''}\"\n",
    "    while name in used_artist_names:\n",
    "        name = f\"{name}_{random.randint(1,999) if random.random() > 0.8 else ''}\"\n",
    "    used_artist_names.add(name)\n",
    "    bio = f\"{t} from {random.choice(['Moscow', 'Berlin', 'London', 'Paris', 'Tokyo', 'New York', 'LA'])}.\"\n",
    "    user_id = random.choice(user_ids)\n",
    "    created_at = now - timedelta(days=random.uniform(0, 365), seconds=random.randint(0, 86400*20))\n",
    "    artists.append((name, bio, user_id, created_at))\n",
    "cur.executemany(\n",
    "    \"INSERT INTO mipt_project.artists(name,bio,user_id,created_at) VALUES(%s,%s,%s,%s) ON CONFLICT DO NOTHING\",\n",
    "    artists\n",
    ")\n",
    "conn.commit()\n",
    "\n",
    "# Альбомы — разные годы, иногда с \"Deluxe\"\n",
    "cur.execute(\"SELECT id FROM mipt_project.artists\")\n",
    "artist_ids = [r[0] for r in cur.fetchall()]\n",
    "albums = []\n",
    "for _ in range(20):\n",
    "    artist_id = random.choice(artist_ids)\n",
    "    base = f\"{random.choice(['Blue', 'Red', 'Golden', 'Secret', 'Night', 'Summer', 'Lost', 'Magic'])}\"\n",
    "    suffix = random.choice([\"\", \" Deluxe\", \" Edition\", \" Live\"]) if random.random() < 0.3 else \"\"\n",
    "    title = f\"{base} {suffix} {random.randint(1, 999) if random.random() > 0.8 else ''}\"\n",
    "    release_date = datetime(random.randint(2019, 2024), random.randint(1, 12), random.randint(1, 28))\n",
    "    created_at = release_date - timedelta(days=random.randint(0, 100))\n",
    "    albums.append((artist_id, title, release_date, created_at))\n",
    "cur.executemany(\n",
    "    \"INSERT INTO mipt_project.albums(artist_id,title,release_date,created_at) VALUES(%s,%s,%s,%s) ON CONFLICT DO NOTHING\",\n",
    "    albums\n",
    ")\n",
    "conn.commit()\n",
    "\n",
    "# Жанры — если их ещё нет, создаём и заполняем\n",
    "genre_names = [\n",
    "    \"Pop\", \"Rock\", \"Jazz\", \"Classical\", \"Electronic\", \"Hip-Hop\", \"Metal\", \"Indie\", \"Folk\", \"Reggae\", \"Blues\",\n",
    "    \"Funk\", \"Disco\", \"Country\", \"Techno\", \"House\", \"Trance\"\n",
    "]\n",
    "cur.execute(\"SELECT COUNT(*) FROM mipt_project.genres\")\n",
    "if cur.fetchone()[0] < len(genre_names):\n",
    "    genres = [(g, f\"Description for {g}\") for g in genre_names]\n",
    "    cur.executemany(\n",
    "        \"INSERT INTO mipt_project.genres(name,description) VALUES(%s,%s) ON CONFLICT DO NOTHING\",\n",
    "        genres\n",
    "    )\n",
    "    conn.commit()\n",
    "\n",
    "# Треки — по альбомам, с уникальными названиями и разной длительностью\n",
    "cur.execute(\"SELECT id FROM mipt_project.albums\")\n",
    "album_ids = [r[0] for r in cur.fetchall()]\n",
    "tracks = []\n",
    "for aid in album_ids:\n",
    "    # Генерируем 1-7 треков на альбом, все с уникальными номерами\n",
    "    n_tracks = random.randint(1, 7)\n",
    "    for tn in range(1, n_tracks+1):\n",
    "        name = f\"{random.choice(['Dream', 'Fire', 'Rain', 'Sun', 'Moon', 'Night', 'Light', 'Sky'])}\" + (f\"{random.randint(1, 999)}\" if random.random() > 0.8 else \"\")\n",
    "        duration = random.randint(100, 520)\n",
    "        url = f\"https://audio.example.com/{random.getrandbits(40):x}.mp3\"\n",
    "        created_at = now - timedelta(days=random.uniform(0, 180), seconds=random.randint(0, 86400*10))\n",
    "        tracks.append((aid, name, duration, tn, url, created_at))\n",
    "cur.executemany(\n",
    "    \"\"\"\n",
    "    INSERT INTO mipt_project.tracks\n",
    "      (album_id, title, duration, track_number, track_url, created_at)\n",
    "    VALUES (%s, %s, %s, %s, %s, %s)\n",
    "    ON CONFLICT (album_id, track_number) DO NOTHING\n",
    "    \"\"\",\n",
    "    tracks\n",
    ")\n",
    "conn.commit()\n",
    "\n",
    "# Плейлисты — часть общих, часть пользовательских\n",
    "cur.execute(\"SELECT id FROM mipt_project.users\")\n",
    "user_ids = [r[0] for r in cur.fetchall()]\n",
    "playlists = []\n",
    "for _ in range(20):\n",
    "    user_id = random.choice(user_ids)\n",
    "    title = random.choice([\n",
    "        \"Roadtrip\", \"Chillout\", \"Workout\", \"Study Vibes\", \"Party Hits\", \"Relax\", \"Morning Boost\", \"Sleep Time\"\n",
    "    ]) + (f\" {random.randint(1, 99)}\" if random.random() > 0.8 else '')\n",
    "    description = f\"Playlist for {random.choice(['fun', 'focus', 'energy', 'relaxation', 'travel', 'work'])}\"\n",
    "    created_at = now - timedelta(days=random.uniform(0, 365), seconds=random.randint(0, 86400*10))\n",
    "    playlists.append((user_id, title, description, created_at))\n",
    "cur.executemany(\n",
    "    \"INSERT INTO mipt_project.playlists(user_id,title,description,created_at) VALUES(%s,%s,%s,%s) ON CONFLICT DO NOTHING\",\n",
    "    playlists\n",
    ")\n",
    "conn.commit()\n",
    "\n",
    "# Track-Genres (каждому треку — 1-3 жанра)\n",
    "cur.execute(\"SELECT id FROM mipt_project.tracks\")\n",
    "track_ids = [r[0] for r in cur.fetchall()]\n",
    "cur.execute(\"SELECT id FROM mipt_project.genres\")\n",
    "genre_ids = [r[0] for r in cur.fetchall()]\n",
    "tg_rel = []\n",
    "for tid in track_ids:\n",
    "    k = random.randint(1, min(3, len(genre_ids)))\n",
    "    for gid in random.sample(genre_ids, k=k):\n",
    "        tg_rel.append((tid, gid))\n",
    "cur.executemany(\n",
    "    \"INSERT INTO mipt_project.track_genres(track_id,genre_id) VALUES(%s,%s) ON CONFLICT DO NOTHING\",\n",
    "    tg_rel\n",
    ")\n",
    "conn.commit()\n",
    "\n",
    "# Playlist-Tracks (3-8 треков в каждом плейлисте, уникальных, позиции перемешаны)\n",
    "cur.execute(\"SELECT id FROM mipt_project.playlists\")\n",
    "pl_ids = [r[0] for r in cur.fetchall()]\n",
    "pt_rel = []\n",
    "for pid in pl_ids:\n",
    "    sel = random.sample(track_ids, k=random.randint(3, 8))\n",
    "    random.shuffle(sel)\n",
    "    for pos, tid in enumerate(sel, start=1):\n",
    "        pt_rel.append((pid, tid, pos))\n",
    "cur.executemany(\n",
    "    \"INSERT INTO mipt_project.playlist_tracks(playlist_id,track_id,position) VALUES(%s,%s,%s) ON CONFLICT DO NOTHING\",\n",
    "    pt_rel\n",
    ")\n",
    "conn.commit()\n",
    "\n",
    "# listening_tracks (от 500 до 2500 прослушиваний)\n",
    "cur.execute(\"SELECT id FROM mipt_project.users\")\n",
    "user_ids = [r[0] for r in cur.fetchall()]\n",
    "cur.execute(\"SELECT id FROM mipt_project.tracks\")\n",
    "track_ids = [r[0] for r in cur.fetchall()]\n",
    "num_listens = random.randint(500, 2500)\n",
    "for i in range(num_listens):\n",
    "    user_id = random.choice(user_ids)\n",
    "    track_id = random.choice(track_ids)\n",
    "    cur.execute(\"CALL mipt_project.listen_track(%s, %s)\", (user_id, track_id))\n",
    "conn.commit()"
   ],
   "id": "76ecd18c79430049",
   "outputs": [],
   "execution_count": 3
  },
  {
   "metadata": {},
   "cell_type": "markdown",
   "source": [
    "---\n",
    "#### 4. АНАЛИТИЧЕСКИЕ ВЫБОРКИ"
   ],
   "id": "94b206098bc25f59"
  },
  {
   "metadata": {
    "ExecuteTime": {
     "end_time": "2025-05-26T21:12:48.687819Z",
     "start_time": "2025-05-26T21:12:48.609644Z"
    }
   },
   "cell_type": "code",
   "source": [
    "albums_df = pd.read_sql(\"SELECT id, title FROM mipt_project.albums\", con=engine)\n",
    "tracks_df = pd.read_sql(\n",
    "    \"SELECT id AS track_id, album_id, duration FROM mipt_project.tracks\", con=engine\n",
    ")\n",
    "track_genres_df = pd.read_sql(\n",
    "    \"SELECT track_id, genre_id FROM mipt_project.track_genres\", con=engine\n",
    ")\n",
    "genres_df = pd.read_sql(\n",
    "    \"SELECT id AS genre_id, name FROM mipt_project.genres\", con=engine\n",
    ")\n",
    "playlists_df = pd.read_sql(\n",
    "    \"SELECT id AS playlist_id, user_id FROM mipt_project.playlists\", con=engine\n",
    ")\n",
    "users_df = pd.read_sql(\n",
    "    \"SELECT id AS user_id, username FROM mipt_project.users\", con=engine\n",
    ")\n",
    "playlist_tracks_df = pd.read_sql(\n",
    "    \"SELECT playlist_id, track_id FROM mipt_project.playlist_tracks\", con=engine\n",
    ")\n",
    "\n",
    "tracks_per_album = (\n",
    "    tracks_df.groupby('album_id')\n",
    "    .size()\n",
    "    .reset_index(name='track_count')\n",
    "    .merge(albums_df, left_on='album_id', right_on='id')\n",
    ")\n",
    "\n",
    "tg = track_genres_df.merge(genres_df, on='genre_id')\n",
    "tracks_per_genre = (\n",
    "    tg.groupby('name')\n",
    "    .size()\n",
    "    .reset_index(name='track_count')\n",
    ")\n",
    "\n",
    "playlist_genre_diversity = (\n",
    "    playlist_tracks_df\n",
    "    .merge(track_genres_df, on='track_id')\n",
    "    .groupby('playlist_id')\n",
    "    .agg({'genre_id': 'nunique', 'track_id': 'nunique'})\n",
    "    .reset_index()\n",
    "    .rename(columns={'genre_id': 'unique_genres_count', 'track_id': 'unique_tracks_count'})\n",
    ")\n"
   ],
   "id": "940185886615ac25",
   "outputs": [],
   "execution_count": 4
  },
  {
   "metadata": {},
   "cell_type": "markdown",
   "source": [
    "---\n",
    "#### 5. ВИЗУАЛИЗАЦИЯ"
   ],
   "id": "236d4c352b68c502"
  },
  {
   "metadata": {
    "ExecuteTime": {
     "end_time": "2025-05-26T21:12:49.340477Z",
     "start_time": "2025-05-26T21:12:48.703047Z"
    }
   },
   "cell_type": "code",
   "source": [
    "sns.set_style(\"whitegrid\")\n",
    "plt.figure(figsize=(15, 5))\n",
    "\n",
    "# Столбчатая диаграмма: распределение альбомов по количеству треков\n",
    "plt.subplot(1, 3, 1)\n",
    "track_counts = tracks_per_album['track_count'].value_counts().sort_index()\n",
    "colors = ['lightcoral' if x == 1 else 'skyblue' for x in track_counts.index]\n",
    "bars1 = plt.bar(track_counts.index, track_counts.values, color=colors, alpha=0.8,\n",
    "                edgecolor='darkblue', linewidth=1.2)\n",
    "plt.title('Альбомы по количеству треков', fontsize=14, fontweight='bold', pad=20)\n",
    "plt.xlabel('Число треков', fontsize=12)\n",
    "plt.ylabel('Количество альбомов', fontsize=12)\n",
    "plt.axvline(x=1.5, color='red', linestyle='--', alpha=0.8, linewidth=2, label='Граница: >1 трек')\n",
    "plt.legend(loc='upper right', framealpha=0.9)\n",
    "plt.grid(True, alpha=0.3)\n",
    "for bar in bars1:\n",
    "    height = bar.get_height()\n",
    "    plt.text(bar.get_x() + bar.get_width()/2., height + 0.05,\n",
    "             f'{int(height)}', ha='center', va='bottom', fontweight='bold')\n",
    "\n",
    "# Столбчатая диаграмма: распределение плейлистов по количеству жанров\n",
    "plt.subplot(1, 3, 2)\n",
    "genre_counts = playlist_genre_diversity['unique_genres_count'].value_counts().sort_index()\n",
    "colors = ['#FF6B6B' if x <= 3 else '#4ECDC4' for x in genre_counts.index]\n",
    "bars2 = plt.bar(genre_counts.index, genre_counts.values, color=colors, alpha=0.8,\n",
    "                edgecolor='darkgray', linewidth=1.2)\n",
    "plt.title('Плейлисты по количеству жанров', fontsize=14, fontweight='bold', pad=20)\n",
    "plt.xlabel('Количество уникальных жанров', fontsize=12)\n",
    "plt.ylabel('Количество плейлистов', fontsize=12)\n",
    "plt.axvline(x=3.5, color='red', linestyle='--', alpha=0.8, linewidth=2, label='Граница: ≤3 жанра')\n",
    "plt.legend(loc='upper right', framealpha=0.9)\n",
    "plt.grid(True, alpha=0.3)\n",
    "for bar in bars2:\n",
    "    height = bar.get_height()\n",
    "    plt.text(bar.get_x() + bar.get_width()/2., height + 0.1,\n",
    "             f'{int(height)}', ha='center', va='bottom', fontweight='bold')\n",
    "\n",
    "# Столбчатая диаграмма топ-5 жанров\n",
    "plt.subplot(1, 3, 3)\n",
    "top5 = tracks_per_genre.sort_values('track_count', ascending=False).head(5)\n",
    "bars3 = plt.barh(range(len(top5)), top5['track_count'], color='mediumseagreen', alpha=0.8,\n",
    "                 edgecolor='darkgreen', linewidth=1.2)\n",
    "plt.yticks(range(len(top5)), top5['name'])\n",
    "plt.title('Топ-5 жанров по числу треков', fontsize=14, fontweight='bold', pad=20)\n",
    "plt.xlabel('Количество треков', fontsize=12)\n",
    "plt.ylabel('')\n",
    "plt.grid(True, alpha=0.3)\n",
    "for i, bar in enumerate(bars3):\n",
    "    width = bar.get_width()\n",
    "    plt.text(width + 0.2, bar.get_y() + bar.get_height()/2,\n",
    "             f'{int(width)}', ha='left', va='center', fontweight='bold')\n",
    "\n",
    "plt.tight_layout()\n",
    "plt.savefig('analysis_plots.png', dpi=300, bbox_inches='tight')\n",
    "plt.show()"
   ],
   "id": "d8863466267d2d27",
   "outputs": [
    {
     "data": {
      "text/plain": [
       "<Figure size 1500x500 with 3 Axes>"
      ],
      "image/png": "[encoded data removed]"
     },
     "metadata": {},
     "output_type": "display_data"
    }
   ],
   "execution_count": 5
  },
  {
   "metadata": {},
   "cell_type": "markdown",
   "source": [
    "---\n",
    "#### 6. ПРОВЕРКА ГИПОТЕЗ"
   ],
   "id": "e0b9bad9ab75c406"
  },
  {
   "metadata": {
    "ExecuteTime": {
     "end_time": "2025-05-26T21:12:49.365637Z",
     "start_time": "2025-05-26T21:12:49.357385Z"
    }
   },
   "cell_type": "code",
   "source": [
    "print(\"Гипотеза 1: В 80% альбомов количество треков больше 1\")\n",
    "albums_with_more_than_1_track = (tracks_per_album['track_count'] > 1).sum()\n",
    "total_albums = len(tracks_per_album)\n",
    "percentage_multi_track = (albums_with_more_than_1_track / total_albums) * 100\n",
    "print(f\"Альбомов с >1 треком: {albums_with_more_than_1_track} из {total_albums}\")\n",
    "print(f\"Процент: {percentage_multi_track:.1f}%\")\n",
    "print(\"Подтверждена\" if percentage_multi_track >= 80 else \"Не подтверждена\")\n",
    "\n",
    "print(\"\\nГипотеза 2: Более чем в 50% плейлистов представлено не более 3 различных жанров\")\n",
    "playlists_with_3_or_less_genres = (playlist_genre_diversity['unique_genres_count'] <= 3).sum()\n",
    "total_playlists = len(playlist_genre_diversity)\n",
    "percentage_balanced = (playlists_with_3_or_less_genres / total_playlists) * 100\n",
    "print(f\"Плейлистов с ≤3 жанрами: {playlists_with_3_or_less_genres} из {total_playlists}\")\n",
    "print(f\"Процент: {percentage_balanced:.1f}%\")\n",
    "print(\"Подтверждена\" if percentage_balanced > 50 else \"Не подтверждена\")\n",
    "\n",
    "print(\"\\nГипотеза 3: Жанр 'Rock' лидирует по числу треков\")\n",
    "rock_count = tracks_per_genre.set_index('name').at['Rock', 'track_count']\n",
    "max_other = tracks_per_genre[tracks_per_genre.name != 'Rock']['track_count'].max()\n",
    "print(f\"Rock: {rock_count}, Остальных: {max_other}\")\n",
    "print(\"Подтверждена\" if rock_count > max_other else \"Не подтверждена\")"
   ],
   "id": "7739b747f68ff451",
   "outputs": [
    {
     "name": "stdout",
     "output_type": "stream",
     "text": [
      "Гипотеза 1: В 80% альбомов количество треков больше 1\n",
      "Альбомов с >1 треком: 30 из 35\n",
      "Процент: 85.7%\n",
      "Подтверждена\n",
      "\n",
      "Гипотеза 2: Более чем в 50% плейлистов представлено не более 3 различных жанров\n",
      "Плейлистов с ≤3 жанрами: 1 из 65\n",
      "Процент: 1.5%\n",
      "Не подтверждена\n",
      "\n",
      "Гипотеза 3: Жанр 'Rock' лидирует по числу треков\n",
      "Rock: 16, Остальных: 23\n",
      "Не подтверждена\n"
     ]
    }
   ],
   "execution_count": 6
  },
  {
   "metadata": {},
   "cell_type": "markdown",
   "source": [
    "---\n",
    "#### 5. ВЫВОДЫ"
   ],
   "id": "93534b08b03a15b5"
  },
  {
   "metadata": {
    "ExecuteTime": {
     "end_time": "2025-05-26T21:12:49.393061Z",
     "start_time": "2025-05-26T21:12:49.387378Z"
    }
   },
   "cell_type": "code",
   "source": [
    "print(\"\\nВыводы:\")\n",
    "print(f\"1. Распределение треков в альбомах: {percentage_multi_track:.1f}% альбомов содержат >1 трека.\")\n",
    "\n",
    "print(\"   - Гипотеза 1 \" + (\"верна\" if percentage_multi_track >= 80 else \"ложна\") +\n",
    "      \" - исполнители \" + (\"предпочитают\" if percentage_multi_track >= 80 else \"не предпочитают\") +\n",
    "      \" выпускать крупные альбомы.\")\n",
    "print(f\"2. Сбалансированность плейлистов по жанрам: {percentage_balanced:.1f}% плейлистов содержат ≤3 жанров.\")\n",
    "print(\"   - Гипотеза 2 \" + (\"верна\" if percentage_balanced > 50 else \"ложна\") +\n",
    "      \" - пользователи \" + (\"предпочитают\" if percentage_balanced > 50 else \"не предпочитают\") +\n",
    "      \" сбалансированные плейлисты.\")\n",
    "print(f\"3. Жанр Rock {'лидирует' if rock_count > max_other else 'не лидирует'} по числу треков.\")\n",
    "print(\"   - Гипотеза 3 \" + (\"верна\" if rock_count > max_other else \"ложна\") +\n",
    "      \" - Жанр Rock\" + (\"\" if rock_count > max_other else \" не\") +\n",
    "      \" самый крупный на площадке.\")"
   ],
   "id": "116fe4b535aaedce",
   "outputs": [
    {
     "name": "stdout",
     "output_type": "stream",
     "text": [
      "\n",
      "Выводы:\n",
      "1. Распределение треков в альбомах: 85.7% альбомов содержат >1 трека.\n",
      "   - Гипотеза 1 верна - исполнители предпочитают выпускать крупные альбомы.\n",
      "2. Сбалансированность плейлистов по жанрам: 1.5% плейлистов содержат ≤3 жанров.\n",
      "   - Гипотеза 2 ложна - пользователи не предпочитают сбалансированные плейлисты.\n",
      "3. Жанр Rock не лидирует по числу треков.\n",
      "   - Гипотеза 3 ложна - Жанр Rock не самый крупный на площадке.\n"
     ]
    }
   ],
   "execution_count": 7
  },
  {
   "metadata": {},
   "cell_type": "markdown",
   "source": [
    "---\n",
    "#### 6. ЗАКРЫВАЕМ СОЕДИНЕНИЕ"
   ],
   "id": "ce9383f964ef06dd"
  },
  {
   "metadata": {
    "ExecuteTime": {
     "end_time": "2025-05-26T21:12:49.423263Z",
     "start_time": "2025-05-26T21:12:49.419105Z"
    }
   },
   "cell_type": "code",
   "source": "conn.close()",
   "id": "d548b8af7936b9ba",
   "outputs": [],
   "execution_count": 8
  }
 ],
 "metadata": {
  "kernelspec": {
   "display_name": "Python 3",
   "language": "python",
   "name": "python3"
  },
  "language_info": {
   "codemirror_mode": {
    "name": "ipython",
    "version": 2
   },
   "file_extension": ".py",
   "mimetype": "text/x-python",
   "name": "python",
   "nbconvert_exporter": "python",
   "pygments_lexer": "ipython2",
   "version": "2.7.6"
  }
 },
 "nbformat": 4,
 "nbformat_minor": 5
}
