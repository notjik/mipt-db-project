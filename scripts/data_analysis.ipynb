{
 "cells": [
  {
   "metadata": {},
   "cell_type": "markdown",
   "source": "### 1. ИМПОРТ НЕОБХОДИМЫХ БИБЛИОТЕК",
   "id": "684108765f69d4ad"
  },
  {
   "metadata": {
    "collapsed": true,
    "ExecuteTime": {
     "end_time": "2025-05-20T11:23:57.036482Z",
     "start_time": "2025-05-20T11:23:56.899738Z"
    }
   },
   "cell_type": "code",
   "source": [
    "import random\n",
    "from datetime import datetime, timedelta\n",
    "\n",
    "import psycopg2\n",
    "import pandas as pd\n",
    "import matplotlib.pyplot as plt\n",
    "import seaborn as sns\n",
    "from sqlalchemy import create_engine"
   ],
   "id": "initial_id",
   "outputs": [],
   "execution_count": 1
  },
  {
   "metadata": {},
   "cell_type": "markdown",
   "source": [
    "---\n",
    "#### 2. ПОДКЛЮЧЕНИЕ К БД"
   ],
   "id": "2d5ccc8fae585c32"
  },
  {
   "metadata": {
    "ExecuteTime": {
     "end_time": "2025-05-20T11:23:57.129717Z",
     "start_time": "2025-05-20T11:23:57.043007Z"
    }
   },
   "cell_type": "code",
   "source": [
    "# --- 1. ПАРАМЕТРЫ ПОДКЛЮЧЕНИЯ ---\n",
    "DB_USER = \"postgres\"\n",
    "DB_PASS = \"postgres\"\n",
    "DB_HOST = \"localhost\"\n",
    "DB_PORT = \"5432\"\n",
    "DB_NAME = \"mipt\"\n",
    "\n",
    "# Коннект через psycopg2 для вставки\n",
    "dsn = f\"dbname={DB_NAME} user={DB_USER} password={DB_PASS} host={DB_HOST} port={DB_PORT}\"\n",
    "conn = psycopg2.connect(dsn)\n",
    "cur = conn.cursor()\n",
    "\n",
    "# SQLAlchemy engine для pandas\n",
    "engine_url = f\"postgresql://{DB_USER}:{DB_PASS}@{DB_HOST}:{DB_PORT}/{DB_NAME}\"\n",
    "engine = create_engine(engine_url)"
   ],
   "id": "5e2f5bb4ada1d50d",
   "outputs": [],
   "execution_count": 2
  },
  {
   "metadata": {},
   "cell_type": "markdown",
   "source": [
    "---\n",
    "#### 3. ГЕНЕРАЦИЯ И ВСТАВКА ДАННЫХ"
   ],
   "id": "e7855064c7b1ee2"
  },
  {
   "metadata": {
    "ExecuteTime": {
     "end_time": "2025-05-20T11:23:57.491885Z",
     "start_time": "2025-05-20T11:23:57.352263Z"
    }
   },
   "cell_type": "code",
   "source": [
    "now = datetime.utcnow()\n",
    "\n",
    "# Генерация уникальных имен и почт с разным стилем\n",
    "first_names = [\"alex\", \"kate\", \"sasha\", \"ivan\", \"lena\", \"vlad\", \"dima\", \"olga\", \"misha\", \"anna\", \"elena\", \"sergey\", \"egor\", \"julia\", \"max\"]\n",
    "last_names = [\"smirnov\", \"ivanov\", \"petrov\", \"sidorov\", \"volkov\", \"kozlov\", \"novikov\", \"morozov\", \"lebedev\", \"solovyov\"]\n",
    "domains = [\"mail.ru\", \"gmail.com\", \"yandex.ru\", \"example.com\", \"test.org\"]\n",
    "\n",
    "users = []\n",
    "used_usernames = set()\n",
    "for _ in range(15):\n",
    "    # Базовые вариации имени\n",
    "    fn = random.choice(first_names)\n",
    "    ln = random.choice(last_names)\n",
    "    username = f\"{fn}{ln}\"\n",
    "    while username in used_usernames:\n",
    "        num = random.randint(1, 9999)\n",
    "        username = f\"{fn}{ln}{num}\"\n",
    "    used_usernames.add(username)\n",
    "    domain = random.choice(domains)\n",
    "    # E-mail с шансом быть не как username\n",
    "    if random.random() < 0.7:\n",
    "        email = f\"{fn}.{ln}@{domain}\"\n",
    "    else:\n",
    "        email = f\"{username}@{domain}\"\n",
    "    # \"Хеш\" пароля\n",
    "    password_hash = pd.util.hash_pandas_object(pd.Series([random.random()]), index=False).iloc[0]\n",
    "    # Дата регистрации: разбросана по разным месяцам и сезонам\n",
    "    created_at = now - timedelta(days=random.uniform(0, 365), seconds=random.randint(0, 86400*10))\n",
    "    users.append((username, email, str(password_hash), created_at))\n",
    "cur.executemany(\n",
    "    \"INSERT INTO mipt_project.users(username,email,password_hash,created_at) VALUES(%s,%s,%s,%s)\",\n",
    "    users\n",
    ")\n",
    "conn.commit()\n",
    "\n",
    "# Артисты — часть \"пользовательские\", часть \"группы\"\n",
    "artist_types = [\"Band\", \"Solo\", \"DJ\", \"Composer\"]\n",
    "cur.execute(\"SELECT id FROM mipt_project.users\")\n",
    "user_ids = [r[0] for r in cur.fetchall()]\n",
    "artists = []\n",
    "used_artist_names = set()\n",
    "for _ in range(15):\n",
    "    t = random.choice(artist_types)\n",
    "    if t == \"Band\":\n",
    "        name = f\"The {random.choice(last_names).capitalize()}s\"\n",
    "    elif t == \"DJ\":\n",
    "        name = f\"DJ {random.choice(first_names).capitalize()}{random.randint(1, 99)}\"\n",
    "    elif t == \"Composer\":\n",
    "        name = f\"{random.choice(first_names).capitalize()} {random.choice(last_names).capitalize()}\"\n",
    "    else:\n",
    "        name = f\"{random.choice(first_names).capitalize()}_{random.randint(100,999)}\"\n",
    "    while name in used_artist_names:\n",
    "        name = f\"{name}_{random.randint(1,999)}\"\n",
    "    used_artist_names.add(name)\n",
    "    bio = f\"{t} from {random.choice(['Moscow', 'Berlin', 'London', 'Paris', 'Tokyo', 'New York', 'LA'])}. Bio ID {random.randint(1000,9999)}\"\n",
    "    user_id = random.choice(user_ids)\n",
    "    created_at = now - timedelta(days=random.uniform(0, 365), seconds=random.randint(0, 86400*20))\n",
    "    artists.append((name, bio, user_id, created_at))\n",
    "cur.executemany(\n",
    "    \"INSERT INTO mipt_project.artists(name,bio,user_id,created_at) VALUES(%s,%s,%s,%s)\",\n",
    "    artists\n",
    ")\n",
    "conn.commit()\n",
    "\n",
    "# Альбомы — разные годы, иногда с \"Deluxe\"\n",
    "cur.execute(\"SELECT id FROM mipt_project.artists\")\n",
    "artist_ids = [r[0] for r in cur.fetchall()]\n",
    "albums = []\n",
    "for _ in range(20):\n",
    "    artist_id = random.choice(artist_ids)\n",
    "    base = f\"{random.choice(['Blue', 'Red', 'Golden', 'Secret', 'Night', 'Summer', 'Lost', 'Magic'])}\"\n",
    "    suffix = random.choice([\"\", \" Deluxe\", \" Edition\", \" Live\"]) if random.random() < 0.3 else \"\"\n",
    "    title = f\"{base} Album{suffix} {random.randint(1, 30)}\"\n",
    "    release_date = datetime(random.randint(2019, 2024), random.randint(1, 12), random.randint(1, 28))\n",
    "    created_at = release_date - timedelta(days=random.randint(0, 100))\n",
    "    albums.append((artist_id, title, release_date, created_at))\n",
    "cur.executemany(\n",
    "    \"INSERT INTO mipt_project.albums(artist_id,title,release_date,created_at) VALUES(%s,%s,%s,%s)\",\n",
    "    albums\n",
    ")\n",
    "conn.commit()\n",
    "\n",
    "# Жанры — если их ещё нет, создаём и заполняем\n",
    "genre_names = [\n",
    "    \"Pop\", \"Rock\", \"Jazz\", \"Classical\", \"Electronic\", \"Hip-Hop\", \"Metal\", \"Indie\", \"Folk\", \"Reggae\", \"Blues\",\n",
    "    \"Funk\", \"Disco\", \"Country\", \"Techno\", \"House\", \"Trance\"\n",
    "]\n",
    "cur.execute(\"SELECT COUNT(*) FROM mipt_project.genres\")\n",
    "if cur.fetchone()[0] < len(genre_names):\n",
    "    genres = [(g, f\"Description for {g}\") for g in genre_names]\n",
    "    cur.executemany(\n",
    "        \"INSERT INTO mipt_project.genres(name,description) VALUES(%s,%s) ON CONFLICT DO NOTHING\",\n",
    "        genres\n",
    "    )\n",
    "    conn.commit()\n",
    "\n",
    "# Треки — по альбомам, с уникальными названиями и разной длительностью\n",
    "cur.execute(\"SELECT id FROM mipt_project.albums\")\n",
    "album_ids = [r[0] for r in cur.fetchall()]\n",
    "tracks = []\n",
    "for aid in album_ids:\n",
    "    # Генерируем 4-7 треков на альбом, все с уникальными номерами\n",
    "    n_tracks = random.randint(4, 7)\n",
    "    for tn in range(1, n_tracks+1):\n",
    "        name = f\"Track_{random.choice(['Dream', 'Fire', 'Rain', 'Sun', 'Moon', 'Night', 'Light', 'Sky'])}_{tn}\"\n",
    "        duration = random.randint(100, 520)\n",
    "        url = f\"https://audio.example.com/{random.getrandbits(40):x}.mp3\"\n",
    "        created_at = now - timedelta(days=random.uniform(0, 180), seconds=random.randint(0, 86400*10))\n",
    "        tracks.append((aid, name, duration, tn, url, created_at))\n",
    "cur.executemany(\n",
    "    \"\"\"\n",
    "    INSERT INTO mipt_project.tracks\n",
    "      (album_id, title, duration, track_number, track_url, created_at)\n",
    "    VALUES (%s, %s, %s, %s, %s, %s)\n",
    "    ON CONFLICT (album_id, track_number) DO NOTHING\n",
    "    \"\"\",\n",
    "    tracks\n",
    ")\n",
    "conn.commit()\n",
    "\n",
    "# Плейлисты — часть общих, часть пользовательских\n",
    "cur.execute(\"SELECT id FROM mipt_project.users\")\n",
    "user_ids = [r[0] for r in cur.fetchall()]\n",
    "playlists = []\n",
    "for _ in range(20):\n",
    "    user_id = random.choice(user_ids)\n",
    "    title = random.choice([\n",
    "        \"Roadtrip\", \"Chillout\", \"Workout\", \"Study Vibes\", \"Party Hits\", \"Relax\", \"Morning Boost\", \"Sleep Time\"\n",
    "    ]) + f\" {random.randint(1, 99)}\"\n",
    "    description = f\"Playlist for {random.choice(['fun', 'focus', 'energy', 'relaxation', 'travel', 'work'])}\"\n",
    "    created_at = now - timedelta(days=random.uniform(0, 365), seconds=random.randint(0, 86400*10))\n",
    "    playlists.append((user_id, title, description, created_at))\n",
    "cur.executemany(\n",
    "    \"INSERT INTO mipt_project.playlists(user_id,title,description,created_at) VALUES(%s,%s,%s,%s)\",\n",
    "    playlists\n",
    ")\n",
    "conn.commit()\n",
    "\n",
    "# Track-Genres (каждому треку — 1-3 жанра)\n",
    "cur.execute(\"SELECT id FROM mipt_project.tracks\")\n",
    "track_ids = [r[0] for r in cur.fetchall()]\n",
    "cur.execute(\"SELECT id FROM mipt_project.genres\")\n",
    "genre_ids = [r[0] for r in cur.fetchall()]\n",
    "tg_rel = []\n",
    "for tid in track_ids:\n",
    "    k = random.randint(1, min(3, len(genre_ids)))\n",
    "    for gid in random.sample(genre_ids, k=k):\n",
    "        tg_rel.append((tid, gid))\n",
    "cur.executemany(\n",
    "    \"INSERT INTO mipt_project.track_genres(track_id,genre_id) VALUES(%s,%s) ON CONFLICT DO NOTHING\",\n",
    "    tg_rel\n",
    ")\n",
    "conn.commit()\n",
    "\n",
    "# Playlist-Tracks (3-8 треков в каждом плейлисте, уникальных, позиции перемешаны)\n",
    "cur.execute(\"SELECT id FROM mipt_project.playlists\")\n",
    "pl_ids = [r[0] for r in cur.fetchall()]\n",
    "pt_rel = []\n",
    "for pid in pl_ids:\n",
    "    sel = random.sample(track_ids, k=random.randint(3, 8))\n",
    "    random.shuffle(sel)\n",
    "    for pos, tid in enumerate(sel, start=1):\n",
    "        pt_rel.append((pid, tid, pos))\n",
    "cur.executemany(\n",
    "    \"INSERT INTO mipt_project.playlist_tracks(playlist_id,track_id,position) VALUES(%s,%s,%s) ON CONFLICT DO NOTHING\",\n",
    "    pt_rel\n",
    ")\n",
    "conn.commit()"
   ],
   "id": "76ecd18c79430049",
   "outputs": [],
   "execution_count": 3
  },
  {
   "metadata": {},
   "cell_type": "markdown",
   "source": [
    "---\n",
    "#### 4. АНАЛИТИЧЕСКИЕ ВЫБОРКИ"
   ],
   "id": "94b206098bc25f59"
  },
  {
   "metadata": {
    "ExecuteTime": {
     "end_time": "2025-05-20T11:23:57.586161Z",
     "start_time": "2025-05-20T11:23:57.497316Z"
    }
   },
   "cell_type": "code",
   "source": [
    "albums_df = pd.read_sql(\"SELECT id, title FROM mipt_project.albums\", con=engine)\n",
    "tracks_df = pd.read_sql(\n",
    "    \"SELECT id AS track_id, album_id, duration FROM mipt_project.tracks\", con=engine\n",
    ")\n",
    "track_genres_df = pd.read_sql(\n",
    "    \"SELECT track_id, genre_id FROM mipt_project.track_genres\", con=engine\n",
    ")\n",
    "genres_df = pd.read_sql(\n",
    "    \"SELECT id AS genre_id, name FROM mipt_project.genres\", con=engine\n",
    ")\n",
    "playlists_df = pd.read_sql(\n",
    "    \"SELECT id AS playlist_id, user_id FROM mipt_project.playlists\", con=engine\n",
    ")\n",
    "users_df = pd.read_sql(\n",
    "    \"SELECT id AS user_id, username FROM mipt_project.users\", con=engine\n",
    ")\n",
    "\n",
    "tracks_per_album = (\n",
    "    tracks_df.groupby('album_id')\n",
    "    .size()\n",
    "    .reset_index(name='track_count')\n",
    "    .merge(albums_df, left_on='album_id', right_on='id')\n",
    ")\n",
    "\n",
    "tg = track_genres_df.merge(genres_df, on='genre_id')\n",
    "tracks_per_genre = (\n",
    "    tg.groupby('name')\n",
    "    .size()\n",
    "    .reset_index(name='track_count')\n",
    ")\n",
    "\n",
    "pl_per_user = (\n",
    "    playlists_df.groupby('user_id')\n",
    "    .size()\n",
    "    .reset_index(name='playlists_count')\n",
    "    .merge(users_df, on='user_id')\n",
    ")\n"
   ],
   "id": "940185886615ac25",
   "outputs": [],
   "execution_count": 4
  },
  {
   "metadata": {},
   "cell_type": "markdown",
   "source": [
    "---\n",
    "#### 5. ВИЗУАЛИЗАЦИЯ"
   ],
   "id": "236d4c352b68c502"
  },
  {
   "metadata": {
    "ExecuteTime": {
     "end_time": "2025-05-20T11:23:58.071635Z",
     "start_time": "2025-05-20T11:23:57.625452Z"
    }
   },
   "cell_type": "code",
   "source": [
    "sns.set(style=\"whitegrid\")\n",
    "plt.figure(figsize=(12, 4))\n",
    "\n",
    "# Гистограмма треков на альбом\n",
    "plt.subplot(1, 3, 1)\n",
    "tracks_per_album['track_count'].hist(bins=5, color='skyblue')\n",
    "plt.title('Треки на альбом')\n",
    "plt.xlabel('Число треков')\n",
    "plt.ylabel('Количество альбомов')\n",
    "\n",
    "# Столбчатая диаграмма топ-5 жанров\n",
    "plt.subplot(1, 3, 2)\n",
    "top5 = tracks_per_genre.sort_values('track_count', ascending=False).head(5)\n",
    "sns.barplot(x='track_count', y='name', data=top5, palette='viridis')\n",
    "plt.title('Топ-5 жанров по числу треков')\n",
    "plt.xlabel('Треки')\n",
    "\n",
    "# Круговая диаграмма плейлистов на пользователя\n",
    "plt.subplot(1, 3, 3)\n",
    "cnts = pl_per_user['playlists_count'].value_counts().sort_index()\n",
    "plt.pie(cnts, labels=cnts.index.astype(str),\n",
    "        autopct='%1.1f%%', startangle=90)\n",
    "plt.title('Плейлисты на пользователя')\n",
    "\n",
    "plt.tight_layout()\n",
    "plt.savefig('analysis_plots.png')\n",
    "plt.show()"
   ],
   "id": "d8863466267d2d27",
   "outputs": [
    {
     "name": "stderr",
     "output_type": "stream",
     "text": [
      "C:\\Users\\rodin\\AppData\\Local\\Temp\\ipykernel_5100\\1997124808.py:14: FutureWarning: \n",
      "\n",
      "Passing `palette` without assigning `hue` is deprecated and will be removed in v0.14.0. Assign the `y` variable to `hue` and set `legend=False` for the same effect.\n",
      "\n",
      "  sns.barplot(x='track_count', y='name', data=top5, palette='viridis')\n"
     ]
    },
    {
     "data": {
      "text/plain": [
       "<Figure size 1200x400 with 3 Axes>"
      ],
      "image/png": "[encoded data removed]"
     },
     "metadata": {},
     "output_type": "display_data"
    }
   ],
   "execution_count": 5
  },
  {
   "metadata": {},
   "cell_type": "markdown",
   "source": [
    "---\n",
    "#### 6. ПРОВЕРКА ГИПОТЕЗ"
   ],
   "id": "e0b9bad9ab75c406"
  },
  {
   "metadata": {
    "ExecuteTime": {
     "end_time": "2025-05-20T11:23:58.128682Z",
     "start_time": "2025-05-20T11:23:58.115223Z"
    }
   },
   "cell_type": "code",
   "source": [
    "print(\"Гипотеза 1: Среднее число треков на альбом > 1\")\n",
    "avg_tracks = tracks_per_album['track_count'].mean()\n",
    "print(f\"Среднее: {avg_tracks:.2f}\")\n",
    "print(\"Подтверждена\" if avg_tracks > 1 else \"Не подтверждена\")\n",
    "\n",
    "print(\"\\nГипотеза 2: Есть хотя бы один пользователь с более чем одним плейлистом\")\n",
    "multi_playlist_users = (pl_per_user['playlists_count'] > 1).any()\n",
    "print(\"Подтверждена\" if multi_playlist_users else \"Не подтверждена\")\n",
    "\n",
    "print(\"\\nГипотеза 3: Жанр 'Rock' лидирует по числу треков\")\n",
    "rock_count = tracks_per_genre.set_index('name').at['Rock', 'track_count']\n",
    "max_other = tracks_per_genre[tracks_per_genre.name != 'Rock']['track_count'].max()\n",
    "print(f\"Rock: {rock_count}, Max остальных: {max_other}\")\n",
    "print(\"Подтверждена\" if rock_count > max_other else \"Не подтверждена\")"
   ],
   "id": "7739b747f68ff451",
   "outputs": [
    {
     "name": "stdout",
     "output_type": "stream",
     "text": [
      "Гипотеза 1: Среднее число треков на альбом > 1\n",
      "Среднее: 5.95\n",
      "Подтверждена\n",
      "\n",
      "Гипотеза 2: Есть хотя бы один пользователь с более чем одним плейлистом\n",
      "Подтверждена\n",
      "\n",
      "Гипотеза 3: Жанр 'Rock' лидирует по числу треков\n",
      "Rock: 13, Max остальных: 20\n",
      "Не подтверждена\n"
     ]
    }
   ],
   "execution_count": 6
  },
  {
   "metadata": {},
   "cell_type": "markdown",
   "source": [
    "---\n",
    "#### 5. ВЫВОДЫ"
   ],
   "id": "93534b08b03a15b5"
  },
  {
   "metadata": {
    "ExecuteTime": {
     "end_time": "2025-05-20T11:23:58.139570Z",
     "start_time": "2025-05-20T11:23:58.135296Z"
    }
   },
   "cell_type": "code",
   "source": [
    "print(\"\\nВыводы:\")\n",
    "print(f\"1. Среднее число треков на альбом: {avg_tracks:.2f}.\")\n",
    "print(\"   - Гипотеза 1 \" + (\"верна.\" if avg_tracks > 1 else \"ложна.\"))\n",
    "print(f\"2. Пользователи с более чем одним плейлистом: {'есть' if multi_playlist_users else 'нет'}.\")\n",
    "print(\"   - Гипотеза 2 \" + (\"верна.\" if multi_playlist_users else \"ложна.\"))\n",
    "print(f\"3. Жанр 'Rock' {'лидирует' if rock_count > max_other else 'не лидирует'} по числу треков.\")\n",
    "print(\"   - Гипотеза 3 \" + (\"верна.\" if rock_count > max_other else \"ложна.\"))"
   ],
   "id": "116fe4b535aaedce",
   "outputs": [
    {
     "name": "stdout",
     "output_type": "stream",
     "text": [
      "\n",
      "Выводы:\n",
      "1. Среднее число треков на альбом: 5.95.\n",
      "   - Гипотеза 1 верна.\n",
      "2. Пользователи с более чем одним плейлистом: есть.\n",
      "   - Гипотеза 2 верна.\n",
      "3. Жанр 'Rock' не лидирует по числу треков.\n",
      "   - Гипотеза 3 ложна.\n"
     ]
    }
   ],
   "execution_count": 7
  },
  {
   "metadata": {},
   "cell_type": "markdown",
   "source": [
    "---\n",
    "#### 6. ЗАКРЫВАЕМ СОЕДИНЕНИЕ"
   ],
   "id": "ce9383f964ef06dd"
  },
  {
   "metadata": {
    "ExecuteTime": {
     "end_time": "2025-05-20T11:23:58.165331Z",
     "start_time": "2025-05-20T11:23:58.161451Z"
    }
   },
   "cell_type": "code",
   "source": "conn.close()",
   "id": "d548b8af7936b9ba",
   "outputs": [],
   "execution_count": 8
  }
 ],
 "metadata": {
  "kernelspec": {
   "display_name": "Python 3",
   "language": "python",
   "name": "python3"
  },
  "language_info": {
   "codemirror_mode": {
    "name": "ipython",
    "version": 2
   },
   "file_extension": ".py",
   "mimetype": "text/x-python",
   "name": "python",
   "nbconvert_exporter": "python",
   "pygments_lexer": "ipython2",
   "version": "2.7.6"
  }
 },
 "nbformat": 4,
 "nbformat_minor": 5
}
