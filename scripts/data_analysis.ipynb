{
 "cells": [
  {
   "metadata": {},
   "cell_type": "markdown",
   "source": "### 1. ИМПОРТ НЕОБХОДИМЫХ БИБЛИОТЕК",
   "id": "684108765f69d4ad"
  },
  {
   "metadata": {
    "collapsed": true,
    "ExecuteTime": {
     "end_time": "2025-05-14T20:50:16.188811Z",
     "start_time": "2025-05-14T20:50:16.180543Z"
    }
   },
   "cell_type": "code",
   "source": [
    "import random\n",
    "from datetime import datetime, timedelta\n",
    "\n",
    "import psycopg2\n",
    "import pandas as pd\n",
    "import matplotlib.pyplot as plt\n",
    "import seaborn as sns\n",
    "from sqlalchemy import create_engine"
   ],
   "id": "initial_id",
   "outputs": [],
   "execution_count": 38
  },
  {
   "metadata": {},
   "cell_type": "markdown",
   "source": [
    "---\n",
    "#### ПОДКЛЮЧЕНИЕ К БД"
   ],
   "id": "2d5ccc8fae585c32"
  },
  {
   "metadata": {
    "ExecuteTime": {
     "end_time": "2025-05-14T20:50:16.274983Z",
     "start_time": "2025-05-14T20:50:16.195056Z"
    }
   },
   "cell_type": "code",
   "source": [
    "# --- 1. ПАРАМЕТРЫ ПОДКЛЮЧЕНИЯ ---\n",
    "DB_USER = \"postgres\"\n",
    "DB_PASS = \"postgres\"\n",
    "DB_HOST = \"localhost\"\n",
    "DB_PORT = \"5432\"\n",
    "DB_NAME = \"mipt\"\n",
    "\n",
    "# Коннект через psycopg2 для вставки\n",
    "dsn = f\"dbname={DB_NAME} user={DB_USER} password={DB_PASS} host={DB_HOST} port={DB_PORT}\"\n",
    "conn = psycopg2.connect(dsn)\n",
    "cur = conn.cursor()\n",
    "\n",
    "# SQLAlchemy engine для pandas\n",
    "engine_url = f\"postgresql://{DB_USER}:{DB_PASS}@{DB_HOST}:{DB_PORT}/{DB_NAME}\"\n",
    "engine = create_engine(engine_url)"
   ],
   "id": "5e2f5bb4ada1d50d",
   "outputs": [],
   "execution_count": 39
  },
  {
   "metadata": {},
   "cell_type": "markdown",
   "source": [
    "---\n",
    "#### 3. ГЕНЕРАЦИЯ И ВСТАВКА ДАННЫХ"
   ],
   "id": "e7855064c7b1ee2"
  },
  {
   "metadata": {
    "ExecuteTime": {
     "end_time": "2025-05-14T20:50:16.461988Z",
     "start_time": "2025-05-14T20:50:16.302548Z"
    }
   },
   "cell_type": "code",
   "source": [
    "now = datetime.utcnow()\n",
    "\n",
    "# Пользователи\n",
    "users = []\n",
    "for _ in range(15):\n",
    "    username = f\"user{random.randint(1000,9999)}\"\n",
    "    email = f\"{username}@example.com\"\n",
    "    password_hash = pd.util.hash_pandas_object(pd.Series([random.random()]), index=False).iloc[0]\n",
    "    created_at = now - timedelta(days=random.uniform(0,365))\n",
    "    users.append((username, email, str(password_hash), created_at))\n",
    "cur.executemany(\n",
    "    \"INSERT INTO mipt_project.users(username,email,password_hash,created_at) VALUES(%s,%s,%s,%s)\",\n",
    "    users\n",
    ")\n",
    "conn.commit()\n",
    "\n",
    "# Артисты\n",
    "cur.execute(\"SELECT id FROM mipt_project.users\")\n",
    "user_ids = [r[0] for r in cur.fetchall()]\n",
    "artists = []\n",
    "for _ in range(15):\n",
    "    name = f\"Artist_{random.randint(1,999)}\"\n",
    "    bio = f\"Bio text {random.randint(1000,9999)}\"\n",
    "    user_id = random.choice(user_ids)\n",
    "    created_at = now - timedelta(days=random.uniform(0,365))\n",
    "    artists.append((name, bio, user_id, created_at))\n",
    "cur.executemany(\n",
    "    \"INSERT INTO mipt_project.artists(name,bio,user_id,created_at) VALUES(%s,%s,%s,%s)\",\n",
    "    artists\n",
    ")\n",
    "conn.commit()\n",
    "\n",
    "# Альбомы\n",
    "cur.execute(\"SELECT id FROM mipt_project.artists\")\n",
    "artist_ids = [r[0] for r in cur.fetchall()]\n",
    "albums = []\n",
    "for _ in range(15):\n",
    "    artist_id = random.choice(artist_ids)\n",
    "    title = f\"Album_{random.randint(1,999)}\"\n",
    "    release_date = datetime(2020,1,1) + timedelta(days=random.randint(0,365*3))\n",
    "    created_at = now - timedelta(days=random.uniform(0,365))\n",
    "    albums.append((artist_id, title, release_date, created_at))\n",
    "cur.executemany(\n",
    "    \"INSERT INTO mipt_project.albums(artist_id,title,release_date,created_at) VALUES(%s,%s,%s,%s)\",\n",
    "    albums\n",
    ")\n",
    "conn.commit()\n",
    "\n",
    "# Треки\n",
    "cur.execute(\"SELECT id FROM mipt_project.albums\")\n",
    "album_ids = [r[0] for r in cur.fetchall()]\n",
    "\n",
    "# Счётчик по каждому альбому\n",
    "album_counter = {aid: 0 for aid in album_ids}\n",
    "tracks = []\n",
    "for _ in range(15):\n",
    "    aid = random.choice(album_ids)\n",
    "    album_counter[aid] += 1\n",
    "    tn = album_counter[aid]\n",
    "    tracks.append((\n",
    "        aid,\n",
    "        f\"Track_{aid}_{tn}\",\n",
    "        random.randint(120,400),\n",
    "        tn,\n",
    "        f\"https://audio.example.com/{random.getrandbits(32):x}.mp3\",\n",
    "        now - timedelta(days=random.uniform(0,180))\n",
    "    ))\n",
    "\n",
    "cur.executemany(\n",
    "    \"\"\"\n",
    "    INSERT INTO mipt_project.tracks\n",
    "      (album_id, title, duration, track_number, track_url, created_at)\n",
    "    VALUES (%s, %s, %s, %s, %s, %s)\n",
    "    ON CONFLICT (album_id, track_number) DO NOTHING\n",
    "    \"\"\",\n",
    "    tracks\n",
    ")\n",
    "conn.commit()\n",
    "\n",
    "# Плейлисты\n",
    "cur.execute(\"SELECT id FROM mipt_project.albums\")\n",
    "album_ids = [r[0] for r in cur.fetchall()]\n",
    "album_counts = {aid: 0 for aid in album_ids}\n",
    "tracks = []\n",
    "for _ in range(15):\n",
    "    album_id = random.choice(album_ids)\n",
    "    album_counts[album_id] += 1\n",
    "    track_number = album_counts[album_id]\n",
    "    title = f\"Track_{album_id}_{track_number}\"\n",
    "    duration = random.randint(120,400)\n",
    "    track_url = f\"https://audio.example.com/{random.getrandbits(32):x}.mp3\"\n",
    "    created_at = now - timedelta(days=random.uniform(0,180))\n",
    "    tracks.append((album_id, title, duration, track_number, track_url, created_at))\n",
    "\n",
    "cur.executemany(\n",
    "    \"\"\"\n",
    "    INSERT INTO mipt_project.tracks\n",
    "      (album_id, title, duration, track_number, track_url, created_at)\n",
    "    VALUES (%s, %s, %s, %s, %s, %s) ON CONFLICT DO NOTHING\n",
    "    \"\"\",\n",
    "    tracks\n",
    ")\n",
    "conn.commit()\n",
    "\n",
    "# Track-Genres (пропускаем дубликаты)\n",
    "cur.execute(\"SELECT id FROM mipt_project.tracks\")\n",
    "track_ids = [r[0] for r in cur.fetchall()]\n",
    "cur.execute(\"SELECT id FROM mipt_project.genres\")\n",
    "genre_ids = [r[0] for r in cur.fetchall()]\n",
    "tg_rel = []\n",
    "max_genres = len(genre_ids)\n",
    "for tid in track_ids:\n",
    "    if max_genres == 0:\n",
    "        break\n",
    "    k = random.randint(1, min(3, max_genres))\n",
    "    for gid in random.sample(genre_ids, k=k):\n",
    "        tg_rel.append((tid, gid))\n",
    "cur.executemany(\n",
    "    \"INSERT INTO mipt_project.track_genres(track_id,genre_id) VALUES(%s,%s) ON CONFLICT DO NOTHING\",\n",
    "    tg_rel\n",
    ")\n",
    "conn.commit()\n",
    "\n",
    "# Playlist-Tracks (пропускаем дубликаты)\n",
    "cur.execute(\"SELECT id FROM mipt_project.playlists\")\n",
    "pl_ids = [r[0] for r in cur.fetchall()]\n",
    "pt_rel = []\n",
    "for pid in pl_ids:\n",
    "    sel = random.sample(track_ids, k=random.randint(3,5))\n",
    "    for pos, tid in enumerate(sel, start=1):\n",
    "        pt_rel.append((pid, tid, pos))\n",
    "cur.executemany(\n",
    "    \"INSERT INTO mipt_project.playlist_tracks(playlist_id,track_id,position) VALUES(%s,%s,%s) ON CONFLICT DO NOTHING\",\n",
    "    pt_rel\n",
    ")\n",
    "conn.commit()"
   ],
   "id": "76ecd18c79430049",
   "outputs": [],
   "execution_count": 40
  },
  {
   "metadata": {},
   "cell_type": "markdown",
   "source": [
    "---\n",
    "#### 4. АНАЛИТИЧЕСКИЕ ВЫБОРКИ"
   ],
   "id": "94b206098bc25f59"
  },
  {
   "metadata": {
    "ExecuteTime": {
     "end_time": "2025-05-14T20:50:16.703250Z",
     "start_time": "2025-05-14T20:50:16.532965Z"
    }
   },
   "cell_type": "code",
   "source": [
    "albums_df = pd.read_sql(\"SELECT id, title FROM mipt_project.albums\", con=engine)\n",
    "tracks_df = pd.read_sql(\n",
    "    \"SELECT id AS track_id, album_id, duration FROM mipt_project.tracks\", con=engine\n",
    ")\n",
    "track_genres_df = pd.read_sql(\n",
    "    \"SELECT track_id, genre_id FROM mipt_project.track_genres\", con=engine\n",
    ")\n",
    "genres_df = pd.read_sql(\n",
    "    \"SELECT id AS genre_id, name FROM mipt_project.genres\", con=engine\n",
    ")\n",
    "playlists_df = pd.read_sql(\n",
    "    \"SELECT id AS playlist_id, user_id FROM mipt_project.playlists\", con=engine\n",
    ")\n",
    "users_df = pd.read_sql(\n",
    "    \"SELECT id AS user_id, username FROM mipt_project.users\", con=engine\n",
    ")\n",
    "\n",
    "tracks_per_album = (\n",
    "    tracks_df.groupby('album_id')\n",
    "    .size()\n",
    "    .reset_index(name='track_count')\n",
    "    .merge(albums_df, left_on='album_id', right_on='id')\n",
    ")\n",
    "\n",
    "tg = track_genres_df.merge(genres_df, on='genre_id')\n",
    "tracks_per_genre = (\n",
    "    tg.groupby('name')\n",
    "    .size()\n",
    "    .reset_index(name='track_count')\n",
    ")\n",
    "\n",
    "pl_per_user = (\n",
    "    playlists_df.groupby('user_id')\n",
    "    .size()\n",
    "    .reset_index(name='playlists_count')\n",
    "    .merge(users_df, on='user_id')\n",
    ")\n"
   ],
   "id": "940185886615ac25",
   "outputs": [],
   "execution_count": 41
  },
  {
   "metadata": {},
   "cell_type": "markdown",
   "source": [
    "---\n",
    "#### 5. ВИЗУАЛИЗАЦИЯ"
   ],
   "id": "236d4c352b68c502"
  },
  {
   "metadata": {
    "ExecuteTime": {
     "end_time": "2025-05-14T20:50:17.334314Z",
     "start_time": "2025-05-14T20:50:16.716478Z"
    }
   },
   "cell_type": "code",
   "source": [
    "sns.set(style=\"whitegrid\")\n",
    "plt.figure(figsize=(12, 4))\n",
    "\n",
    "# Гистограмма треков на альбом\n",
    "plt.subplot(1, 3, 1)\n",
    "tracks_per_album['track_count'].hist(bins=5, color='skyblue')\n",
    "plt.title('Треки на альбом')\n",
    "plt.xlabel('Число треков')\n",
    "plt.ylabel('Количество альбомов')\n",
    "\n",
    "# Столбчатая диаграмма топ-5 жанров\n",
    "plt.subplot(1, 3, 2)\n",
    "top5 = tracks_per_genre.sort_values('track_count', ascending=False).head(5)\n",
    "sns.barplot(x='track_count', y='name', data=top5, palette='viridis')\n",
    "plt.title('Топ-5 жанров по числу треков')\n",
    "plt.xlabel('Треки')\n",
    "\n",
    "# Круговая диаграмма плейлистов на пользователя\n",
    "plt.subplot(1, 3, 3)\n",
    "cnts = pl_per_user['playlists_count'].value_counts().sort_index()\n",
    "plt.pie(cnts, labels=cnts.index.astype(str),\n",
    "        autopct='%1.1f%%', startangle=90)\n",
    "plt.title('Плейлисты на пользователя')\n",
    "\n",
    "plt.tight_layout()\n",
    "plt.savefig('analysis_plots.png')\n",
    "plt.show()"
   ],
   "id": "d8863466267d2d27",
   "outputs": [
    {
     "name": "stderr",
     "output_type": "stream",
     "text": [
      "C:\\Users\\rodin\\AppData\\Local\\Temp\\ipykernel_4528\\1997124808.py:14: FutureWarning: \n",
      "\n",
      "Passing `palette` without assigning `hue` is deprecated and will be removed in v0.14.0. Assign the `y` variable to `hue` and set `legend=False` for the same effect.\n",
      "\n",
      "  sns.barplot(x='track_count', y='name', data=top5, palette='viridis')\n"
     ]
    },
    {
     "data": {
      "text/plain": [
       "<Figure size 1200x400 with 3 Axes>"
      ],
      "image/png": "[encoded data removed]"
     },
     "metadata": {},
     "output_type": "display_data"
    }
   ],
   "execution_count": 42
  },
  {
   "metadata": {},
   "cell_type": "markdown",
   "source": [
    "---\n",
    "#### 6. ПРОВЕРКА ГИПОТЕЗ"
   ],
   "id": "e0b9bad9ab75c406"
  },
  {
   "metadata": {
    "ExecuteTime": {
     "end_time": "2025-05-14T20:50:17.382712Z",
     "start_time": "2025-05-14T20:50:17.368001Z"
    }
   },
   "cell_type": "code",
   "source": [
    "print(\"Гипотеза 1: Среднее число треков на альбом > 1\")\n",
    "avg_tracks = tracks_per_album['track_count'].mean()\n",
    "print(f\"Среднее: {avg_tracks:.2f}\")\n",
    "print(\"Подтверждена\" if avg_tracks > 1 else \"Не подтверждена\")\n",
    "\n",
    "print(\"\\nГипотеза 2: Есть хотя бы один пользователь с более чем одним плейлистом\")\n",
    "multi_playlist_users = (pl_per_user['playlists_count'] > 1).any()\n",
    "print(\"Подтверждена\" if multi_playlist_users else \"Не подтверждена\")\n",
    "\n",
    "print(\"\\nГипотеза 3: Жанр 'Rock' лидирует по числу треков\")\n",
    "rock_count = tracks_per_genre.set_index('name').at['Rock', 'track_count']\n",
    "max_other = tracks_per_genre[tracks_per_genre.name != 'Rock']['track_count'].max()\n",
    "print(f\"Rock: {rock_count}, Max остальных: {max_other}\")\n",
    "print(\"Подтверждена\" if rock_count > max_other else \"Не подтверждена\")"
   ],
   "id": "7739b747f68ff451",
   "outputs": [
    {
     "name": "stdout",
     "output_type": "stream",
     "text": [
      "Гипотеза 1: Среднее число треков на альбом > 1\n",
      "Среднее: 1.21\n",
      "Подтверждена\n",
      "\n",
      "Гипотеза 2: Есть хотя бы один пользователь с более чем одним плейлистом\n",
      "Подтверждена\n",
      "\n",
      "Гипотеза 3: Жанр 'Rock' лидирует по числу треков\n",
      "Rock: 29, Max остальных: 35\n",
      "Не подтверждена\n"
     ]
    }
   ],
   "execution_count": 43
  },
  {
   "metadata": {},
   "cell_type": "markdown",
   "source": [
    "---\n",
    "#### 5. ВЫВОДЫ"
   ],
   "id": "93534b08b03a15b5"
  },
  {
   "metadata": {
    "ExecuteTime": {
     "end_time": "2025-05-14T20:50:17.511313Z",
     "start_time": "2025-05-14T20:50:17.496395Z"
    }
   },
   "cell_type": "code",
   "source": [
    "print(\"\\nВыводы:\")\n",
    "print(f\"1. Среднее число треков на альбом: {avg_tracks:.2f}.\")\n",
    "print(\"   - Гипотеза 1 \" + (\"верна.\" if avg_tracks > 1 else \"ложна.\"))\n",
    "print(f\"2. Пользователи с более чем одним плейлистом: {'есть' if multi_playlist_users else 'нет'}.\")\n",
    "print(\"   - Гипотеза 2 \" + (\"верна.\" if multi_playlist_users else \"ложна.\"))\n",
    "print(f\"3. Жанр 'Rock' {'лидирует' if rock_count > max_other else 'не лидирует'} по числу треков.\")\n",
    "print(\"   - Гипотеза 3 \" + (\"верна.\" if rock_count > max_other else \"ложна.\"))"
   ],
   "id": "116fe4b535aaedce",
   "outputs": [
    {
     "name": "stdout",
     "output_type": "stream",
     "text": [
      "\n",
      "Выводы:\n",
      "1. Среднее число треков на альбом: 1.21.\n",
      "   - Гипотеза 1 верна.\n",
      "2. Пользователи с более чем одним плейлистом: есть.\n",
      "   - Гипотеза 2 верна.\n",
      "3. Жанр 'Rock' не лидирует по числу треков.\n",
      "   - Гипотеза 3 ложна.\n"
     ]
    }
   ],
   "execution_count": 44
  },
  {
   "metadata": {},
   "cell_type": "markdown",
   "source": [
    "---\n",
    "#### 6. ЗАКРЫВАЕМ СОЕДИНЕНИЕ"
   ],
   "id": "ce9383f964ef06dd"
  },
  {
   "metadata": {
    "ExecuteTime": {
     "end_time": "2025-05-14T20:50:17.571944Z",
     "start_time": "2025-05-14T20:50:17.561639Z"
    }
   },
   "cell_type": "code",
   "source": "conn.close()",
   "id": "d548b8af7936b9ba",
   "outputs": [],
   "execution_count": 45
  }
 ],
 "metadata": {
  "kernelspec": {
   "display_name": "Python 3",
   "language": "python",
   "name": "python3"
  },
  "language_info": {
   "codemirror_mode": {
    "name": "ipython",
    "version": 2
   },
   "file_extension": ".py",
   "mimetype": "text/x-python",
   "name": "python",
   "nbconvert_exporter": "python",
   "pygments_lexer": "ipython2",
   "version": "2.7.6"
  }
 },
 "nbformat": 4,
 "nbformat_minor": 5
}
